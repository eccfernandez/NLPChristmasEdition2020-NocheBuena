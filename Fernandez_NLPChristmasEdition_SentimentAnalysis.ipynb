{
 "cells": [
  {
   "cell_type": "code",
   "execution_count": 1,
   "metadata": {},
   "outputs": [
    {
     "name": "stdout",
     "output_type": "stream",
     "text": [
      "STEP 4: Sentimental Analysis\n",
      "-----------------------------\n"
     ]
    }
   ],
   "source": [
    "print ('STEP 4: Sentimental Analysis')\n",
    "print ('-----------------------------')"
   ]
  },
  {
   "cell_type": "code",
   "execution_count": 2,
   "metadata": {},
   "outputs": [
    {
     "data": {
      "text/html": [
       "<div>\n",
       "<style scoped>\n",
       "    .dataframe tbody tr th:only-of-type {\n",
       "        vertical-align: middle;\n",
       "    }\n",
       "\n",
       "    .dataframe tbody tr th {\n",
       "        vertical-align: top;\n",
       "    }\n",
       "\n",
       "    .dataframe thead th {\n",
       "        text-align: right;\n",
       "    }\n",
       "</style>\n",
       "<table border=\"1\" class=\"dataframe\">\n",
       "  <thead>\n",
       "    <tr style=\"text-align: right;\">\n",
       "      <th></th>\n",
       "      <th>transcript</th>\n",
       "      <th>full_name</th>\n",
       "    </tr>\n",
       "  </thead>\n",
       "  <tbody>\n",
       "    <tr>\n",
       "      <th>Beef Kaldereta</th>\n",
       "      <td>Beef Kaldereta is a main stay in any Filipino ...</td>\n",
       "      <td>Morcon</td>\n",
       "    </tr>\n",
       "    <tr>\n",
       "      <th>Bibingka</th>\n",
       "      <td>Bibingka is a type of rice cake native to the ...</td>\n",
       "      <td>Embutido</td>\n",
       "    </tr>\n",
       "    <tr>\n",
       "      <th>Buko Salad</th>\n",
       "      <td>Buko Salad or sweet young coconut salad is a d...</td>\n",
       "      <td>Crispy Pata</td>\n",
       "    </tr>\n",
       "    <tr>\n",
       "      <th>Crispy Pata</th>\n",
       "      <td>Crispy Pata or crispy pork leg is a popular Fi...</td>\n",
       "      <td>Beef Kaldereta</td>\n",
       "    </tr>\n",
       "    <tr>\n",
       "      <th>Embutido</th>\n",
       "      <td>Embutido is a type of meatloaf prepared Filipi...</td>\n",
       "      <td>Paella</td>\n",
       "    </tr>\n",
       "    <tr>\n",
       "      <th>Fruit Salad</th>\n",
       "      <td>Fruit Salad is a general term referring to a f...</td>\n",
       "      <td>Bibingka</td>\n",
       "    </tr>\n",
       "    <tr>\n",
       "      <th>Leche Flan</th>\n",
       "      <td>Leche Flan is a dessert made-up of eggs and mi...</td>\n",
       "      <td>Pancit Malabon</td>\n",
       "    </tr>\n",
       "    <tr>\n",
       "      <th>Morcon</th>\n",
       "      <td>Morcon is a Filipino meat roll stuffed with sa...</td>\n",
       "      <td>Leche Flan</td>\n",
       "    </tr>\n",
       "    <tr>\n",
       "      <th>Paella</th>\n",
       "      <td>Paella is a popular rice dish that originated ...</td>\n",
       "      <td>Buko Salad</td>\n",
       "    </tr>\n",
       "    <tr>\n",
       "      <th>Pancit Malabon</th>\n",
       "      <td>Pansit Malabon is a flavorful noodle dish that...</td>\n",
       "      <td>Fruit Salad</td>\n",
       "    </tr>\n",
       "  </tbody>\n",
       "</table>\n",
       "</div>"
      ],
      "text/plain": [
       "                                                       transcript  \\\n",
       "Beef Kaldereta  Beef Kaldereta is a main stay in any Filipino ...   \n",
       "Bibingka        Bibingka is a type of rice cake native to the ...   \n",
       "Buko Salad      Buko Salad or sweet young coconut salad is a d...   \n",
       "Crispy Pata     Crispy Pata or crispy pork leg is a popular Fi...   \n",
       "Embutido        Embutido is a type of meatloaf prepared Filipi...   \n",
       "Fruit Salad     Fruit Salad is a general term referring to a f...   \n",
       "Leche Flan      Leche Flan is a dessert made-up of eggs and mi...   \n",
       "Morcon          Morcon is a Filipino meat roll stuffed with sa...   \n",
       "Paella          Paella is a popular rice dish that originated ...   \n",
       "Pancit Malabon  Pansit Malabon is a flavorful noodle dish that...   \n",
       "\n",
       "                     full_name  \n",
       "Beef Kaldereta          Morcon  \n",
       "Bibingka              Embutido  \n",
       "Buko Salad         Crispy Pata  \n",
       "Crispy Pata     Beef Kaldereta  \n",
       "Embutido                Paella  \n",
       "Fruit Salad           Bibingka  \n",
       "Leche Flan      Pancit Malabon  \n",
       "Morcon              Leche Flan  \n",
       "Paella              Buko Salad  \n",
       "Pancit Malabon     Fruit Salad  "
      ]
     },
     "execution_count": 2,
     "metadata": {},
     "output_type": "execute_result"
    }
   ],
   "source": [
    "import pandas as pd\n",
    "\n",
    "data = pd.read_pickle('corpus.pkl')\n",
    "data"
   ]
  },
  {
   "cell_type": "code",
   "execution_count": 3,
   "metadata": {},
   "outputs": [
    {
     "data": {
      "text/html": [
       "<div>\n",
       "<style scoped>\n",
       "    .dataframe tbody tr th:only-of-type {\n",
       "        vertical-align: middle;\n",
       "    }\n",
       "\n",
       "    .dataframe tbody tr th {\n",
       "        vertical-align: top;\n",
       "    }\n",
       "\n",
       "    .dataframe thead th {\n",
       "        text-align: right;\n",
       "    }\n",
       "</style>\n",
       "<table border=\"1\" class=\"dataframe\">\n",
       "  <thead>\n",
       "    <tr style=\"text-align: right;\">\n",
       "      <th></th>\n",
       "      <th>transcript</th>\n",
       "      <th>full_name</th>\n",
       "      <th>polarity</th>\n",
       "      <th>subjectivity</th>\n",
       "    </tr>\n",
       "  </thead>\n",
       "  <tbody>\n",
       "    <tr>\n",
       "      <th>Beef Kaldereta</th>\n",
       "      <td>Beef Kaldereta is a main stay in any Filipino ...</td>\n",
       "      <td>Morcon</td>\n",
       "      <td>0.279382</td>\n",
       "      <td>0.455933</td>\n",
       "    </tr>\n",
       "    <tr>\n",
       "      <th>Bibingka</th>\n",
       "      <td>Bibingka is a type of rice cake native to the ...</td>\n",
       "      <td>Embutido</td>\n",
       "      <td>0.052381</td>\n",
       "      <td>0.463393</td>\n",
       "    </tr>\n",
       "    <tr>\n",
       "      <th>Buko Salad</th>\n",
       "      <td>Buko Salad or sweet young coconut salad is a d...</td>\n",
       "      <td>Crispy Pata</td>\n",
       "      <td>0.236587</td>\n",
       "      <td>0.476825</td>\n",
       "    </tr>\n",
       "    <tr>\n",
       "      <th>Crispy Pata</th>\n",
       "      <td>Crispy Pata or crispy pork leg is a popular Fi...</td>\n",
       "      <td>Beef Kaldereta</td>\n",
       "      <td>0.170282</td>\n",
       "      <td>0.516774</td>\n",
       "    </tr>\n",
       "    <tr>\n",
       "      <th>Embutido</th>\n",
       "      <td>Embutido is a type of meatloaf prepared Filipi...</td>\n",
       "      <td>Paella</td>\n",
       "      <td>0.248000</td>\n",
       "      <td>0.647778</td>\n",
       "    </tr>\n",
       "    <tr>\n",
       "      <th>Fruit Salad</th>\n",
       "      <td>Fruit Salad is a general term referring to a f...</td>\n",
       "      <td>Bibingka</td>\n",
       "      <td>0.175000</td>\n",
       "      <td>0.571712</td>\n",
       "    </tr>\n",
       "    <tr>\n",
       "      <th>Leche Flan</th>\n",
       "      <td>Leche Flan is a dessert made-up of eggs and mi...</td>\n",
       "      <td>Pancit Malabon</td>\n",
       "      <td>0.255828</td>\n",
       "      <td>0.490004</td>\n",
       "    </tr>\n",
       "    <tr>\n",
       "      <th>Morcon</th>\n",
       "      <td>Morcon is a Filipino meat roll stuffed with sa...</td>\n",
       "      <td>Leche Flan</td>\n",
       "      <td>0.135909</td>\n",
       "      <td>0.430253</td>\n",
       "    </tr>\n",
       "    <tr>\n",
       "      <th>Paella</th>\n",
       "      <td>Paella is a popular rice dish that originated ...</td>\n",
       "      <td>Buko Salad</td>\n",
       "      <td>0.255612</td>\n",
       "      <td>0.530230</td>\n",
       "    </tr>\n",
       "    <tr>\n",
       "      <th>Pancit Malabon</th>\n",
       "      <td>Pansit Malabon is a flavorful noodle dish that...</td>\n",
       "      <td>Fruit Salad</td>\n",
       "      <td>-0.014043</td>\n",
       "      <td>0.550926</td>\n",
       "    </tr>\n",
       "  </tbody>\n",
       "</table>\n",
       "</div>"
      ],
      "text/plain": [
       "                                                       transcript  \\\n",
       "Beef Kaldereta  Beef Kaldereta is a main stay in any Filipino ...   \n",
       "Bibingka        Bibingka is a type of rice cake native to the ...   \n",
       "Buko Salad      Buko Salad or sweet young coconut salad is a d...   \n",
       "Crispy Pata     Crispy Pata or crispy pork leg is a popular Fi...   \n",
       "Embutido        Embutido is a type of meatloaf prepared Filipi...   \n",
       "Fruit Salad     Fruit Salad is a general term referring to a f...   \n",
       "Leche Flan      Leche Flan is a dessert made-up of eggs and mi...   \n",
       "Morcon          Morcon is a Filipino meat roll stuffed with sa...   \n",
       "Paella          Paella is a popular rice dish that originated ...   \n",
       "Pancit Malabon  Pansit Malabon is a flavorful noodle dish that...   \n",
       "\n",
       "                     full_name  polarity  subjectivity  \n",
       "Beef Kaldereta          Morcon  0.279382      0.455933  \n",
       "Bibingka              Embutido  0.052381      0.463393  \n",
       "Buko Salad         Crispy Pata  0.236587      0.476825  \n",
       "Crispy Pata     Beef Kaldereta  0.170282      0.516774  \n",
       "Embutido                Paella  0.248000      0.647778  \n",
       "Fruit Salad           Bibingka  0.175000      0.571712  \n",
       "Leche Flan      Pancit Malabon  0.255828      0.490004  \n",
       "Morcon              Leche Flan  0.135909      0.430253  \n",
       "Paella              Buko Salad  0.255612      0.530230  \n",
       "Pancit Malabon     Fruit Salad -0.014043      0.550926  "
      ]
     },
     "execution_count": 3,
     "metadata": {},
     "output_type": "execute_result"
    }
   ],
   "source": [
    "from textblob import TextBlob\n",
    "\n",
    "pol = lambda x: TextBlob(x).sentiment.polarity\n",
    "sub = lambda x: TextBlob(x).sentiment.subjectivity\n",
    "\n",
    "data['polarity'] = data['transcript'].apply(pol)\n",
    "data['subjectivity'] = data['transcript'].apply(sub)\n",
    "data"
   ]
  },
  {
   "cell_type": "code",
   "execution_count": 5,
   "metadata": {},
   "outputs": [
    {
     "data": {
      "image/png": "[encoded data removed]",
      "text/plain": [
       "<Figure size 720x576 with 1 Axes>"
      ]
     },
     "metadata": {
      "needs_background": "light"
     },
     "output_type": "display_data"
    }
   ],
   "source": [
    "import matplotlib.pyplot as plt\n",
    "\n",
    "plt.rcParams['figure.figsize'] = [10, 8]\n",
    "\n",
    "for index, NocheBuena in enumerate(data.index):\n",
    "    x = data.polarity.loc[NocheBuena]\n",
    "    y = data.subjectivity.loc[NocheBuena]\n",
    "    plt.scatter(x, y, color='blue')\n",
    "    plt.text(x+.001, y+.001, data['full_name'][index], fontsize=10)\n",
    "    plt.xlim(-.01, .12) \n",
    "    \n",
    "plt.title('Sentiment Analysis of Noche Buena Dishes Served', fontsize=20)\n",
    "plt.xlabel('<-- Negative -------- Positive -->', fontsize=15)\n",
    "plt.ylabel('<-- Least Served -------- Most Served -->', fontsize=15)\n",
    "\n",
    "plt.show()"
   ]
  },
  {
   "cell_type": "code",
   "execution_count": 6,
   "metadata": {},
   "outputs": [
    {
     "name": "stdout",
     "output_type": "stream",
     "text": [
      "Sentimental Analysis: COMPLETED\n"
     ]
    }
   ],
   "source": [
    "print ('Sentimental Analysis: COMPLETED')"
   ]
  }
 ],
 "metadata": {
  "kernelspec": {
   "display_name": "Python 3",
   "language": "python",
   "name": "python3"
  },
  "language_info": {
   "codemirror_mode": {
    "name": "ipython",
    "version": 3
   },
   "file_extension": ".py",
   "mimetype": "text/x-python",
   "name": "python",
   "nbconvert_exporter": "python",
   "pygments_lexer": "ipython3",
   "version": "3.8.3"
  }
 },
 "nbformat": 4,
 "nbformat_minor": 4
}
